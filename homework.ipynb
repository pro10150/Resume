{
 "cells": [
  {
   "cell_type": "markdown",
   "metadata": {},
   "source": [
    "1"
   ]
  },
  {
   "cell_type": "markdown",
   "metadata": {},
   "source": []
  },
  {
   "cell_type": "code",
   "execution_count": 13,
   "metadata": {},
   "outputs": [],
   "source": [
    "def arraySum(array, sum):\n",
    "    for i in array:\n",
    "        for j in array:\n",
    "            if i != j and i + j == sum:\n",
    "                print(str(i) + \",\" + str(j))\n",
    "                array.remove(i)\n",
    "                array.remove(j)"
   ]
  },
  {
   "cell_type": "code",
   "execution_count": 14,
   "metadata": {},
   "outputs": [
    {
     "name": "stdout",
     "output_type": "stream",
     "text": [
      "1,4\n",
      "3,2\n"
     ]
    }
   ],
   "source": [
    "arraySum(array=[1,2,3,4,5], sum=5)"
   ]
  },
  {
   "cell_type": "code",
   "execution_count": 15,
   "metadata": {},
   "outputs": [
    {
     "name": "stdout",
     "output_type": "stream",
     "text": [
      "1,3\n"
     ]
    }
   ],
   "source": [
    "arraySum(array=[1,2,3,4,5], sum=4)"
   ]
  },
  {
   "cell_type": "markdown",
   "metadata": {},
   "source": [
    "2"
   ]
  },
  {
   "cell_type": "code",
   "execution_count": 20,
   "metadata": {},
   "outputs": [],
   "source": [
    "def checkSimilarity(s1, s2):\n",
    "    s1 = sorted(s1.upper())\n",
    "    s2 = sorted(s2.upper())\n",
    "    print(len(s1) == len(s2) and s1 == s2) \n"
   ]
  },
  {
   "cell_type": "code",
   "execution_count": 22,
   "metadata": {},
   "outputs": [
    {
     "name": "stdout",
     "output_type": "stream",
     "text": [
      "True\n",
      "True\n",
      "False\n",
      "False\n"
     ]
    }
   ],
   "source": [
    "checkSimilarity('Mary', 'Army')\n",
    "checkSimilarity('Maryy', 'Armyy')\n",
    "checkSimilarity('Maryy', 'Army')\n",
    "checkSimilarity('Marym', 'Armyy')"
   ]
  },
  {
   "cell_type": "markdown",
   "metadata": {},
   "source": [
    "3"
   ]
  },
  {
   "cell_type": "code",
   "execution_count": 101,
   "metadata": {},
   "outputs": [],
   "source": [
    "def boardcastDate(array):\n",
    "    boardcast = []\n",
    "    tempArray = []\n",
    "    temp = 0\n",
    "    for i in array:\n",
    "        if i-1 == temp:\n",
    "            tempArray.append(i)\n",
    "        else:\n",
    "            if len(tempArray) > 0:\n",
    "                boardcast.append(str(tempArray[0]) + \",\" + str(tempArray[-1]))\n",
    "                tempArray = []\n",
    "        boardcast.append(str(temp) + \"-\" + str(i))\n",
    "        temp = i\n",
    "    print(boardcast, sep=\",\")"
   ]
  },
  {
   "cell_type": "code",
   "execution_count": 102,
   "metadata": {},
   "outputs": [
    {
     "name": "stdout",
     "output_type": "stream",
     "text": [
      "['0-1', '1,1', '1-4', '4-6', '6-9', '9-10', '10,10', '10-14', '14-16', '16-17']\n"
     ]
    }
   ],
   "source": [
    "boardcastDate([1, 4, 6, 9, 10, 14, 16, 17])"
   ]
  },
  {
   "cell_type": "markdown",
   "metadata": {},
   "source": [
    "4"
   ]
  },
  {
   "cell_type": "code",
   "execution_count": 127,
   "metadata": {},
   "outputs": [],
   "source": [
    "def fullReversedPyramid(input):\n",
    "    for i in range(input):\n",
    "        print(\" \" * i + \"*\" * (input - i)+ \"*\" * (input - i-1))"
   ]
  },
  {
   "cell_type": "code",
   "execution_count": 128,
   "metadata": {},
   "outputs": [
    {
     "name": "stdout",
     "output_type": "stream",
     "text": [
      "*********\n",
      " *******\n",
      "  *****\n",
      "   ***\n",
      "    *\n"
     ]
    }
   ],
   "source": [
    "fullReversedPyramid(5)"
   ]
  },
  {
   "cell_type": "markdown",
   "metadata": {},
   "source": [
    "5"
   ]
  },
  {
   "cell_type": "code",
   "execution_count": 188,
   "metadata": {},
   "outputs": [],
   "source": [
    "def fullNumberPyramid(input):\n",
    "    number = list(range(1,11))\n",
    "    number[-1] = 0\n",
    "    for i in range(input):\n",
    "        i = i+1\n",
    "        print(\" \" * (input - i),end=\"\")\n",
    "        for j in range(i):\n",
    "            print(str(number[0]) + \" \", end=\"\")\n",
    "            number.pop(0)\n",
    "        print()"
   ]
  },
  {
   "cell_type": "code",
   "execution_count": 190,
   "metadata": {},
   "outputs": [
    {
     "name": "stdout",
     "output_type": "stream",
     "text": [
      "  1 \n",
      " 2 3 \n",
      "4 5 6 \n"
     ]
    }
   ],
   "source": [
    "fullNumberPyramid(3)"
   ]
  },
  {
   "cell_type": "markdown",
   "metadata": {},
   "source": [
    "6"
   ]
  },
  {
   "cell_type": "code",
   "execution_count": 53,
   "metadata": {},
   "outputs": [],
   "source": [
    "def sortNumber():\n",
    "    x = input(\"input 10 numbers: \")\n",
    "    intList = [int(i) for i in x.split(',')]\n",
    "    intList.sort(reverse=True)\n",
    "    print(intList)"
   ]
  },
  {
   "cell_type": "code",
   "execution_count": 54,
   "metadata": {},
   "outputs": [
    {
     "name": "stdout",
     "output_type": "stream",
     "text": [
      "[10, 9, 8, 7, 6, 5, 4, 3, 2, 1]\n"
     ]
    }
   ],
   "source": [
    "sortNumber()"
   ]
  },
  {
   "cell_type": "markdown",
   "metadata": {},
   "source": [
    "7"
   ]
  },
  {
   "cell_type": "code",
   "execution_count": 26,
   "metadata": {},
   "outputs": [],
   "source": [
    "def getTime(input):\n",
    "    hr = 0\n",
    "    m = 0\n",
    "    s = 0\n",
    "    remain = 0\n",
    "    hr = input // (60 * 60)\n",
    "    remain = input % (60 * 60)\n",
    "    m = remain // 60\n",
    "    remain = remain % 60\n",
    "    s = remain\n",
    "    print(str(hr).zfill(2) + \":\" + str(m).zfill(2) + \":\" + str(s).zfill(2))\n"
   ]
  },
  {
   "cell_type": "code",
   "execution_count": 29,
   "metadata": {},
   "outputs": [
    {
     "name": "stdout",
     "output_type": "stream",
     "text": [
      "00:01:30\n"
     ]
    }
   ],
   "source": [
    "getTime(90)"
   ]
  },
  {
   "cell_type": "markdown",
   "metadata": {},
   "source": [
    "8"
   ]
  },
  {
   "cell_type": "code",
   "execution_count": 35,
   "metadata": {},
   "outputs": [],
   "source": [
    "def calculateChange(input):\n",
    "    changes = [500, 100, 50, 10, 5, 1]\n",
    "    money = 1000\n",
    "    print(\"จำนวนเงินทอน \" + str(money - input) + \" บาท\")\n",
    "    for change in changes:\n",
    "        print(str(change) + \" \" + str(((money - input) // change)) + (\" ใบ\" if change > 5 else \" เหรียญ\"))\n",
    "        money = money - change * ((money - input) // change)\n"
   ]
  },
  {
   "cell_type": "code",
   "execution_count": 36,
   "metadata": {},
   "outputs": [
    {
     "name": "stdout",
     "output_type": "stream",
     "text": [
      "จำนวนเงินทอน 968 บาท\n",
      "500 1 ใบ\n",
      "100 4 ใบ\n",
      "50 1 ใบ\n",
      "10 1 ใบ\n",
      "5 1 เหรียญ\n",
      "1 3 เหรียญ\n"
     ]
    }
   ],
   "source": [
    "calculateChange(32)"
   ]
  },
  {
   "cell_type": "markdown",
   "metadata": {},
   "source": [
    "9"
   ]
  },
  {
   "cell_type": "code",
   "execution_count": 49,
   "metadata": {},
   "outputs": [],
   "source": [
    "def revertString(input):\n",
    "    for i in range(1, input+1):\n",
    "        for space in range(input - i):\n",
    "            print(\" \", end=\"\")\n",
    "        for j in range(i):\n",
    "            print(\"*\", end=\"\")\n",
    "        for j in range(i-1):\n",
    "            print(\"*\", end=\"\")\n",
    "        print()\n",
    "\n",
    "    "
   ]
  },
  {
   "cell_type": "code",
   "execution_count": 50,
   "metadata": {},
   "outputs": [
    {
     "name": "stdout",
     "output_type": "stream",
     "text": [
      "    *\n",
      "   ***\n",
      "  *****\n",
      " *******\n",
      "*********\n"
     ]
    }
   ],
   "source": [
    "revertString(5)"
   ]
  },
  {
   "cell_type": "markdown",
   "metadata": {},
   "source": [
    "10"
   ]
  },
  {
   "cell_type": "code",
   "execution_count": null,
   "metadata": {},
   "outputs": [],
   "source": [
    "def sortNumber():\n",
    "    x = input(\"input 10 numbers: \")\n",
    "    intList = [int(i) for i in x.split(',')]\n",
    "    intList.sort(reverse=True)\n",
    "    print(intList)"
   ]
  }
 ],
 "metadata": {
  "interpreter": {
   "hash": "db378014dceb0fd1e81905dfd59722cc43ec0edce8edd08c43b5f96efb23ec9a"
  },
  "kernelspec": {
   "display_name": "Python 3.9.10 64-bit (windows store)",
   "language": "python",
   "name": "python3"
  },
  "language_info": {
   "codemirror_mode": {
    "name": "ipython",
    "version": 3
   },
   "file_extension": ".py",
   "mimetype": "text/x-python",
   "name": "python",
   "nbconvert_exporter": "python",
   "pygments_lexer": "ipython3",
   "version": "3.9.10"
  },
  "orig_nbformat": 4
 },
 "nbformat": 4,
 "nbformat_minor": 2
}
