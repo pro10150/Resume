{
 "cells": [
  {
   "cell_type": "markdown",
   "metadata": {},
   "source": [
    "ข้อ 1"
   ]
  },
  {
   "cell_type": "code",
   "execution_count": 4,
   "metadata": {},
   "outputs": [],
   "source": [
    "def arraySum(array, sum):\n",
    "    for i in array:\n",
    "        for j in array:\n",
    "            if i != j and i + j == sum:\n",
    "                print(str(i) + \",\" + str(j))\n",
    "                array.remove(i)\n",
    "                array.remove(j)"
   ]
  },
  {
   "cell_type": "code",
   "execution_count": 5,
   "metadata": {},
   "outputs": [
    {
     "output_type": "stream",
     "name": "stdout",
     "text": [
      "1,4\n3,2\n"
     ]
    }
   ],
   "source": [
    "arraySum(array=[1,2,3,4,5], sum=5)"
   ]
  },
  {
   "cell_type": "code",
   "execution_count": 6,
   "metadata": {},
   "outputs": [
    {
     "output_type": "stream",
     "name": "stdout",
     "text": [
      "1,3\n"
     ]
    }
   ],
   "source": [
    "arraySum(array=[1,2,3,4,5], sum=4)"
   ]
  },
  {
   "cell_type": "markdown",
   "metadata": {},
   "source": [
    "ข้อ 2"
   ]
  },
  {
   "cell_type": "code",
   "execution_count": 233,
   "metadata": {},
   "outputs": [],
   "source": [
    "def sortAndUpperString(input):\n",
    "    result = \"\"\n",
    "    for i in input:\n",
    "        i = ord(i) - 32 if ord(i) > 90 else ord(i)\n",
    "        result = result + chr(i)\n",
    "    s = list(result)\n",
    "    isSorted = False\n",
    "    while not isSorted:\n",
    "        for i in range(len(s) - 1):\n",
    "            if s[i] > s[i + 1]:\n",
    "                s[i + 1], s[i] = s[i], s[i + 1]\n",
    "                break\n",
    "            else:\n",
    "                isSorted = True\n",
    "\n",
    "    result = \"\".join(s)\n",
    "    return result\n",
    "        "
   ]
  },
  {
   "cell_type": "code",
   "execution_count": 238,
   "metadata": {},
   "outputs": [],
   "source": [
    "def checkSimilarity(s1, s2):\n",
    "    s1 = sortAndUpperString(s1)\n",
    "    s2 = sortAndUpperString(s2)\n",
    "    print(len(s1) == len(s2) and s1 == s2) \n"
   ]
  },
  {
   "cell_type": "code",
   "execution_count": 239,
   "metadata": {},
   "outputs": [
    {
     "output_type": "stream",
     "name": "stdout",
     "text": [
      "True\nTrue\nFalse\nFalse\n"
     ]
    }
   ],
   "source": [
    "checkSimilarity('Mary', 'Army')\n",
    "checkSimilarity('Maryy', 'Armyy')\n",
    "checkSimilarity('Maryy', 'Army')\n",
    "checkSimilarity('Marym', 'Armyy')"
   ]
  },
  {
   "cell_type": "markdown",
   "metadata": {},
   "source": [
    "ข้อ 3"
   ]
  },
  {
   "cell_type": "code",
   "execution_count": 207,
   "metadata": {},
   "outputs": [],
   "source": [
    "def boardcastDate(array):\n",
    "    boardcast = \"\"\n",
    "    tempArray = []\n",
    "    temp = 0\n",
    "    for i, elem in enumerate(array):\n",
    "        thisElem = elem\n",
    "        nextElem = array[(i + 1) % len(array)]\n",
    "        if thisElem + 1 == nextElem:\n",
    "            tempArray.append(thisElem)\n",
    "        else:\n",
    "            if len(tempArray) != 0:\n",
    "                tempArray.append(thisElem)\n",
    "                boardcast = boardcast + (str(tempArray[0]) + \" - \" + str(tempArray[-1]))  + \", \" if i + 1 < len(array) else boardcast + str(tempArray[0]) + \" - \" + str(tempArray[-1])\n",
    "                tempArray = []\n",
    "            else:\n",
    "                boardcast = boardcast + (str(thisElem) + \", \") if i < len(array) else (str(thisElem))\n",
    "    print(boardcast)"
   ]
  },
  {
   "cell_type": "code",
   "execution_count": 208,
   "metadata": {},
   "outputs": [
    {
     "output_type": "stream",
     "name": "stdout",
     "text": [
      "1 - 10\n"
     ]
    }
   ],
   "source": [
    "boardcastDate( [1 ,2 ,3 ,4 ,5 ,6 ,7 ,8 ,9 ,10])"
   ]
  },
  {
   "cell_type": "code",
   "execution_count": 209,
   "metadata": {},
   "outputs": [
    {
     "output_type": "stream",
     "name": "stdout",
     "text": [
      "1, 4, 6, 9 - 10, 14, 16 - 17\n"
     ]
    }
   ],
   "source": [
    "boardcastDate([1, 4, 6, 9, 10, 14, 16, 17])"
   ]
  },
  {
   "cell_type": "markdown",
   "metadata": {},
   "source": [
    "ข้อ 4"
   ]
  },
  {
   "cell_type": "code",
   "execution_count": 11,
   "metadata": {},
   "outputs": [],
   "source": [
    "def fullReversedPyramid(input):\n",
    "    for i in range(input):\n",
    "        print(\" \" * i + \"*\" * (input - i)+ \"*\" * (input - i-1))"
   ]
  },
  {
   "cell_type": "code",
   "execution_count": 12,
   "metadata": {},
   "outputs": [
    {
     "output_type": "stream",
     "name": "stdout",
     "text": [
      "*********\n *******\n  *****\n   ***\n    *\n"
     ]
    }
   ],
   "source": [
    "fullReversedPyramid(5)"
   ]
  },
  {
   "cell_type": "markdown",
   "metadata": {},
   "source": [
    "ข้อ 5"
   ]
  },
  {
   "cell_type": "code",
   "execution_count": 13,
   "metadata": {},
   "outputs": [],
   "source": [
    "def fullNumberPyramid(input):\n",
    "    number = list(range(1,11))\n",
    "    number[-1] = 0\n",
    "    for i in range(input):\n",
    "        i = i+1\n",
    "        print(\" \" * (input - i),end=\"\")\n",
    "        for j in range(i):\n",
    "            print(str(number[0]) + \" \", end=\"\")\n",
    "            number.pop(0)\n",
    "        print()"
   ]
  },
  {
   "cell_type": "code",
   "execution_count": 25,
   "metadata": {},
   "outputs": [
    {
     "output_type": "stream",
     "name": "stdout",
     "text": [
      "   1 \n  2 3 \n 4 5 6 \n7 8 9 0 \n"
     ]
    }
   ],
   "source": [
    "fullNumberPyramid(4)\n"
   ]
  },
  {
   "cell_type": "code",
   "execution_count": 26,
   "metadata": {},
   "outputs": [
    {
     "output_type": "stream",
     "name": "stdout",
     "text": [
      "  1 \n 2 3 \n4 5 6 \n"
     ]
    }
   ],
   "source": [
    "fullNumberPyramid(3)"
   ]
  },
  {
   "cell_type": "markdown",
   "metadata": {},
   "source": [
    "ข้อ 6"
   ]
  },
  {
   "cell_type": "code",
   "execution_count": 250,
   "metadata": {},
   "outputs": [],
   "source": [
    "def sortReverseNumber():\n",
    "    x = input(\"input 10 numbers: \")\n",
    "    intList = [int(i) for i in x.split(',')]\n",
    "    for i in range(len(intList)):\n",
    "        max_idx = i\n",
    "        for j in range(i + 1, len(intList)):\n",
    "            if intList[max_idx] < intList[j]:\n",
    "                max_idx = j\n",
    "        intList[i], intList[max_idx] = intList[max_idx], intList[i]\n",
    "    print(intList)"
   ]
  },
  {
   "cell_type": "code",
   "execution_count": 251,
   "metadata": {},
   "outputs": [
    {
     "output_type": "stream",
     "name": "stdout",
     "text": [
      "[10, 9, 8, 7, 6, 5, 4, 3, 2, 1]\n"
     ]
    }
   ],
   "source": [
    "sortReverseNumber()"
   ]
  },
  {
   "cell_type": "markdown",
   "metadata": {},
   "source": [
    "ข้อ 7"
   ]
  },
  {
   "cell_type": "code",
   "execution_count": 17,
   "metadata": {},
   "outputs": [],
   "source": [
    "def getTime(input):\n",
    "    hr = 0\n",
    "    m = 0\n",
    "    s = 0\n",
    "    remain = 0\n",
    "    hr = input // (60 * 60)\n",
    "    remain = input % (60 * 60)\n",
    "    m = remain // 60\n",
    "    remain = remain % 60\n",
    "    s = remain\n",
    "    print(str(hr).zfill(2) + \":\" + str(m).zfill(2) + \":\" + str(s).zfill(2))\n"
   ]
  },
  {
   "cell_type": "code",
   "execution_count": 27,
   "metadata": {},
   "outputs": [
    {
     "output_type": "stream",
     "name": "stdout",
     "text": [
      "00:00:59\n"
     ]
    }
   ],
   "source": [
    "getTime(59)"
   ]
  },
  {
   "cell_type": "code",
   "execution_count": 18,
   "metadata": {},
   "outputs": [
    {
     "output_type": "stream",
     "name": "stdout",
     "text": [
      "00:01:30\n"
     ]
    }
   ],
   "source": [
    "getTime(90)"
   ]
  },
  {
   "cell_type": "markdown",
   "metadata": {},
   "source": [
    "ข้อ 8"
   ]
  },
  {
   "cell_type": "code",
   "execution_count": 19,
   "metadata": {},
   "outputs": [],
   "source": [
    "def calculateChange(input):\n",
    "    changes = [500, 100, 50, 10, 5, 1]\n",
    "    money = 1000\n",
    "    print(\"จำนวนเงินทอน \" + str(money - input) + \" บาท\")\n",
    "    for change in changes:\n",
    "        print(str(change) + \" \" + str(((money - input) // change)) + (\" ใบ\" if change > 5 else \" เหรียญ\"))\n",
    "        money = money - change * ((money - input) // change)\n"
   ]
  },
  {
   "cell_type": "code",
   "execution_count": 20,
   "metadata": {},
   "outputs": [
    {
     "output_type": "stream",
     "name": "stdout",
     "text": [
      "จำนวนเงินทอน 968 บาท\n500 1 ใบ\n100 4 ใบ\n50 1 ใบ\n10 1 ใบ\n5 1 เหรียญ\n1 3 เหรียญ\n"
     ]
    }
   ],
   "source": [
    "calculateChange(32)"
   ]
  },
  {
   "source": [
    "ข้อ 9"
   ],
   "cell_type": "markdown",
   "metadata": {}
  },
  {
   "cell_type": "code",
   "execution_count": 80,
   "metadata": {},
   "outputs": [],
   "source": [
    "def revertString(input):\n",
    "    revertedString = \"\"\n",
    "    stringList = input.split(\" \")\n",
    "    for sentence in stringList:\n",
    "        for i in range(1, len(sentence) + 1):\n",
    "            revertedString = revertedString + sentence[-i]\n",
    "        revertedString = revertedString + \" \"\n",
    "    print(revertedString)"
   ]
  },
  {
   "cell_type": "code",
   "execution_count": 81,
   "metadata": {},
   "outputs": [
    {
     "output_type": "stream",
     "name": "stdout",
     "text": [
      "emocleW ot txenkcilc \n"
     ]
    }
   ],
   "source": [
    "revertString(\"Welcome to clicknext\")"
   ]
  },
  {
   "cell_type": "markdown",
   "metadata": {},
   "source": [
    "ข้อ 10"
   ]
  },
  {
   "cell_type": "code",
   "execution_count": 29,
   "metadata": {},
   "outputs": [],
   "source": [
    "def fullPyramid(input):\n",
    "    for i in range(1, input+1):\n",
    "        for space in range(input - i):\n",
    "            print(\" \", end=\"\")\n",
    "        for j in range(i):\n",
    "            print(\"*\", end=\"\")\n",
    "        for j in range(i-1):\n",
    "            print(\"*\", end=\"\")\n",
    "        print()\n",
    "\n",
    "    "
   ]
  },
  {
   "cell_type": "code",
   "execution_count": 30,
   "metadata": {},
   "outputs": [
    {
     "output_type": "stream",
     "name": "stdout",
     "text": [
      "    *\n   ***\n  *****\n *******\n*********\n"
     ]
    }
   ],
   "source": [
    "fullPyramid(5)"
   ]
  },
  {
   "cell_type": "markdown",
   "metadata": {},
   "source": [
    "ข้อ 11"
   ]
  },
  {
   "cell_type": "code",
   "execution_count": 246,
   "metadata": {},
   "outputs": [],
   "source": [
    "def sortNumber():\n",
    "    x = input(\"input 10 numbers: \")\n",
    "    intList = [int(i) for i in x.split(',')]\n",
    "    for i in range(len(intList)):\n",
    "        min_idx = i\n",
    "        for j in range(i + 1, len(intList)):\n",
    "            if intList[min_idx] > intList[j]:\n",
    "                min_idx = j\n",
    "        intList[i], intList[min_idx] = intList[min_idx], intList[i]\n",
    "    print(intList)"
   ]
  },
  {
   "cell_type": "code",
   "execution_count": 247,
   "metadata": {},
   "outputs": [
    {
     "output_type": "stream",
     "name": "stdout",
     "text": [
      "[1, 2, 3, 4, 5, 6, 7, 8, 9, 10]\n"
     ]
    }
   ],
   "source": [
    "sortNumber()"
   ]
  },
  {
   "cell_type": "code",
   "execution_count": null,
   "metadata": {},
   "outputs": [],
   "source": []
  }
 ],
 "metadata": {
  "interpreter": {
   "hash": "db378014dceb0fd1e81905dfd59722cc43ec0edce8edd08c43b5f96efb23ec9a"
  },
  "kernelspec": {
   "name": "python3",
   "display_name": "Python 3.9.7 64-bit",
   "metadata": {
    "interpreter": {
     "hash": "aee8b7b246df8f9039afb4144a1f6fd8d2ca17a180786b69acc140d282b71a49"
    }
   }
  },
  "language_info": {
   "codemirror_mode": {
    "name": "ipython",
    "version": 3
   },
   "file_extension": ".py",
   "mimetype": "text/x-python",
   "name": "python",
   "nbconvert_exporter": "python",
   "pygments_lexer": "ipython3",
   "version": "3.9.7-final"
  },
  "orig_nbformat": 4
 },
 "nbformat": 4,
 "nbformat_minor": 2
}